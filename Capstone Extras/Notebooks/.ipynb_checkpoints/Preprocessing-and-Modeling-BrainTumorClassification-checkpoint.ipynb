{
 "cells": [
  {
   "cell_type": "markdown",
   "metadata": {},
   "source": [
    "# Preprocessing and Modeling (Brain Tumor Classification)"
   ]
  },
  {
   "cell_type": "markdown",
   "metadata": {},
   "source": [
    "## Step 1: Importing Libraries"
   ]
  },
  {
   "cell_type": "code",
   "execution_count": 1,
   "metadata": {},
   "outputs": [],
   "source": [
    "import tensorflow as tf\n",
    "from tensorflow import keras\n",
    "from tensorflow.keras.preprocessing.image import ImageDataGenerator\n",
    "from tensorflow.keras.applications import EfficientNetB0\n",
    "from tensorflow.keras.preprocessing import image\n",
    "from keras.layers import Dense, Flatten, Conv2D, BatchNormalization, MaxPool2D, MaxPooling2D, Dropout, Activation\n",
    "from keras.models import Sequential\n",
    "from keras.callbacks import EarlyStopping\n",
    "from tensorflow.keras.optimizers import Adam, SGD, RMSprop\n",
    "from sklearn.metrics import confusion_matrix, classification_report\n",
    "from sklearn.model_selection import train_test_split\n",
    "from tensorflow.keras.applications import EfficientNetB0\n",
    "from tensorflow.keras.callbacks import EarlyStopping, ReduceLROnPlateau, TensorBoard, ModelCheckpoint\n",
    "from tqdm import tqdm\n",
    "from sklearn.utils import shuffle\n",
    "import ipywidgets as widgets\n",
    "import io\n",
    "import time\n",
    "import os, sys, os.path\n",
    "from PIL import Image, ImageOps\n",
    "import scipy.ndimage as ndi\n",
    "from skimage import color\n",
    "from skimage.filters import gaussian\n",
    "import cv2, PIL\n",
    "import itertools\n",
    "from IPython.display import display,clear_output\n",
    "from warnings import filterwarnings\n",
    "import numpy as np\n",
    "import pandas as pd\n",
    "import matplotlib.pyplot as plt\n",
    "import seaborn as sns"
   ]
  },
  {
   "cell_type": "markdown",
   "metadata": {},
   "source": [
    "## Step 2: Data Preparation"
   ]
  },
  {
   "cell_type": "code",
   "execution_count": 4,
   "metadata": {},
   "outputs": [],
   "source": [
    "training_path = \"../BrainTumorDataClean/Training/\"\n",
    "validation_path = \"../BrainTumorDataClean/Validation/\"\n",
    "test_path = \"../BrainTumorDataClean/Testing/\"\n",
    "\n",
    "labels = ['Glioma','Meningioma','NoTumor','Pituitary']"
   ]
  },
  {
   "cell_type": "code",
   "execution_count": 5,
   "metadata": {},
   "outputs": [
    {
     "name": "stderr",
     "output_type": "stream",
     "text": [
      "100%|██████████| 1145/1145 [00:00<00:00, 3556.39it/s]\n",
      "100%|██████████| 1163/1163 [00:00<00:00, 3630.92it/s]\n",
      "100%|██████████| 1361/1361 [00:00<00:00, 3366.45it/s]\n",
      "100%|██████████| 1254/1254 [00:00<00:00, 3312.85it/s]\n"
     ]
    }
   ],
   "source": [
    "X_train = []\n",
    "y_train = []\n",
    "image_size = 128\n",
    "for i in labels:\n",
    "    folderPath = os.path.join(training_path, i)\n",
    "    for j in tqdm(os.listdir(folderPath)):\n",
    "        img = plt.imread(os.path.join(folderPath,j))\n",
    "        # img = cv2.resize(img,(image_size, image_size))\n",
    "        X_train.append(img)\n",
    "        y_train.append(i)\n",
    "X_train = np.array(X_train)\n",
    "y_train = np.array(y_train)"
   ]
  },
  {
   "cell_type": "code",
   "execution_count": 6,
   "metadata": {},
   "outputs": [
    {
     "name": "stderr",
     "output_type": "stream",
     "text": [
      "100%|██████████| 235/235 [00:00<00:00, 3228.36it/s]\n",
      "100%|██████████| 237/237 [00:00<00:00, 2865.83it/s]\n",
      "100%|██████████| 314/314 [00:00<00:00, 2807.52it/s]\n",
      "100%|██████████| 264/264 [00:00<00:00, 3078.59it/s]\n"
     ]
    }
   ],
   "source": [
    "X_valid = []\n",
    "y_valid = []\n",
    "image_size = 128\n",
    "for i in labels:\n",
    "    folderPath = os.path.join(validation_path, i)\n",
    "    for j in tqdm(os.listdir(folderPath)):\n",
    "        img = plt.imread(os.path.join(folderPath,j))\n",
    "        # img = cv2.resize(img,(image_size, image_size))\n",
    "        X_valid.append(img)\n",
    "        y_valid.append(i)\n",
    "X_valid = np.array(X_valid)\n",
    "y_valid = np.array(y_valid)"
   ]
  },
  {
   "cell_type": "code",
   "execution_count": 7,
   "metadata": {},
   "outputs": [
    {
     "name": "stderr",
     "output_type": "stream",
     "text": [
      "100%|██████████| 241/241 [00:00<00:00, 3268.29it/s]\n",
      "100%|██████████| 245/245 [00:00<00:00, 3149.70it/s]\n",
      "100%|██████████| 325/325 [00:00<00:00, 3166.25it/s]\n",
      "100%|██████████| 239/239 [00:00<00:00, 3197.32it/s]\n"
     ]
    }
   ],
   "source": [
    "X_test = []\n",
    "y_test = []\n",
    "image_size = 128\n",
    "for i in labels:\n",
    "    folderPath = os.path.join(test_path, i)\n",
    "    for j in tqdm(os.listdir(folderPath)):\n",
    "        img = plt.imread(os.path.join(folderPath,j))\n",
    "        # img = cv2.resize(img,(image_size, image_size))\n",
    "        X_test.append(img)\n",
    "        y_test.append(i)\n",
    "X_test = np.array(X_test)\n",
    "y_test = np.array(y_test)"
   ]
  },
  {
   "cell_type": "code",
   "execution_count": 8,
   "metadata": {},
   "outputs": [],
   "source": [
    "X_train, y_train = shuffle(X_train, y_train, random_state=101)"
   ]
  },
  {
   "cell_type": "code",
   "execution_count": 9,
   "metadata": {},
   "outputs": [],
   "source": [
    "X_valid, y_valid = shuffle(X_valid, y_valid, random_state=101)"
   ]
  },
  {
   "cell_type": "code",
   "execution_count": 10,
   "metadata": {},
   "outputs": [],
   "source": [
    "X_test, y_test = shuffle(X_test, y_test, random_state=101)"
   ]
  },
  {
   "cell_type": "code",
   "execution_count": 11,
   "metadata": {},
   "outputs": [
    {
     "data": {
      "text/plain": [
       "((4923, 128, 128), (1050, 128, 128), (1050, 128, 128))"
      ]
     },
     "execution_count": 11,
     "metadata": {},
     "output_type": "execute_result"
    }
   ],
   "source": [
    "X_train.shape, X_valid.shape, X_test.shape"
   ]
  },
  {
   "cell_type": "code",
   "execution_count": 12,
   "metadata": {},
   "outputs": [
    {
     "data": {
      "text/plain": [
       "((4923,), (1050,), (1050,))"
      ]
     },
     "execution_count": 12,
     "metadata": {},
     "output_type": "execute_result"
    }
   ],
   "source": [
    "y_train.shape, y_valid.shape, y_test.shape"
   ]
  },
  {
   "cell_type": "code",
   "execution_count": 13,
   "metadata": {},
   "outputs": [
    {
     "data": {
      "text/plain": [
       "array(['Pituitary', 'NoTumor', 'Meningioma', 'Meningioma', 'NoTumor',\n",
       "       'Meningioma', 'Meningioma', 'Pituitary', 'NoTumor', 'Pituitary',\n",
       "       'NoTumor', 'Pituitary', 'Glioma', 'NoTumor', 'NoTumor',\n",
       "       'Meningioma', 'Meningioma', 'NoTumor', 'NoTumor', 'Meningioma'],\n",
       "      dtype='<U10')"
      ]
     },
     "execution_count": 13,
     "metadata": {},
     "output_type": "execute_result"
    }
   ],
   "source": [
    "labels.index('NoTumor')\n",
    "y_test[:20]"
   ]
  },
  {
   "cell_type": "code",
   "execution_count": 16,
   "metadata": {},
   "outputs": [
    {
     "name": "stderr",
     "output_type": "stream",
     "text": [
      "C:\\Users\\shaja\\Anaconda3\\lib\\site-packages\\seaborn\\_decorators.py:36: FutureWarning: Pass the following variable as a keyword arg: x. From version 0.12, the only valid positional argument will be `data`, and passing other arguments without an explicit keyword will result in an error or misinterpretation.\n",
      "  warnings.warn(\n"
     ]
    },
    {
     "data": {
      "image/png": "[encoded data removed]",
      "text/plain": [
       "<Figure size 432x288 with 1 Axes>"
      ]
     },
     "metadata": {
      "needs_background": "light"
     },
     "output_type": "display_data"
    }
   ],
   "source": [
    "sns.countplot(y_test)\n",
    "plt.show()"
   ]
  },
  {
   "cell_type": "markdown",
   "metadata": {},
   "source": [
    "## One hot encoding to the image labels"
   ]
  },
  {
   "cell_type": "code",
   "execution_count": 17,
   "metadata": {},
   "outputs": [],
   "source": [
    "y_train_new = []\n",
    "for i in y_train:\n",
    "    y_train_new.append(labels.index(i))\n",
    "y_train = y_train_new\n",
    "y_train = tf.keras.utils.to_categorical(y_train)"
   ]
  },
  {
   "cell_type": "code",
   "execution_count": 18,
   "metadata": {},
   "outputs": [],
   "source": [
    "y_valid_new = []\n",
    "for i in y_test:\n",
    "    y_valid_new.append(labels.index(i))\n",
    "y_valid = y_valid_new\n",
    "y_valid = tf.keras.utils.to_categorical(y_valid)"
   ]
  },
  {
   "cell_type": "code",
   "execution_count": 19,
   "metadata": {},
   "outputs": [],
   "source": [
    "y_test_new = []\n",
    "for i in y_test:\n",
    "    y_test_new.append(labels.index(i))\n",
    "y_test = y_test_new\n",
    "y_test = tf.keras.utils.to_categorical(y_test)"
   ]
  },
  {
   "cell_type": "code",
   "execution_count": 20,
   "metadata": {},
   "outputs": [],
   "source": [
    "# Copy of y_test\n",
    "y_test1 = y_test\n",
    "y_test2 = y_test\n",
    "y_test3 = y_test\n",
    "y_test4 = y_test\n",
    "y_test5 = y_test\n",
    "y_test6 = y_test"
   ]
  },
  {
   "cell_type": "code",
   "execution_count": 21,
   "metadata": {},
   "outputs": [
    {
     "data": {
      "text/plain": [
       "((4923, 4), (1050, 4), (1050, 4))"
      ]
     },
     "execution_count": 21,
     "metadata": {},
     "output_type": "execute_result"
    }
   ],
   "source": [
    "y_train.shape, y_valid.shape, y_test.shape"
   ]
  },
  {
   "cell_type": "code",
   "execution_count": 22,
   "metadata": {},
   "outputs": [
    {
     "data": {
      "text/plain": [
       "(array([[0., 0., 0., 1.],\n",
       "        [0., 0., 1., 0.],\n",
       "        [1., 0., 0., 0.],\n",
       "        [1., 0., 0., 0.],\n",
       "        [0., 0., 1., 0.],\n",
       "        [0., 0., 0., 1.],\n",
       "        [1., 0., 0., 0.],\n",
       "        [0., 0., 0., 1.],\n",
       "        [1., 0., 0., 0.],\n",
       "        [0., 1., 0., 0.]], dtype=float32),\n",
       " array([[0., 0., 0., 1.],\n",
       "        [0., 0., 1., 0.],\n",
       "        [0., 1., 0., 0.],\n",
       "        [0., 1., 0., 0.],\n",
       "        [0., 0., 1., 0.],\n",
       "        [0., 1., 0., 0.],\n",
       "        [0., 1., 0., 0.],\n",
       "        [0., 0., 0., 1.],\n",
       "        [0., 0., 1., 0.],\n",
       "        [0., 0., 0., 1.]], dtype=float32),\n",
       " array([[0., 0., 0., 1.],\n",
       "        [0., 0., 1., 0.],\n",
       "        [0., 1., 0., 0.],\n",
       "        [0., 1., 0., 0.],\n",
       "        [0., 0., 1., 0.],\n",
       "        [0., 1., 0., 0.],\n",
       "        [0., 1., 0., 0.],\n",
       "        [0., 0., 0., 1.],\n",
       "        [0., 0., 1., 0.],\n",
       "        [0., 0., 0., 1.]], dtype=float32))"
      ]
     },
     "execution_count": 22,
     "metadata": {},
     "output_type": "execute_result"
    }
   ],
   "source": [
    "y_train[:10], y_valid[:10], y_test[:10]"
   ]
  },
  {
   "cell_type": "markdown",
   "metadata": {},
   "source": [
    "## Step 3: Modeling"
   ]
  },
  {
   "cell_type": "markdown",
   "metadata": {},
   "source": [
    "### Model 1 - Implementing a Simple Neural Network using  dense layers"
   ]
  },
  {
   "cell_type": "code",
   "execution_count": 131,
   "metadata": {
    "scrolled": true
   },
   "outputs": [],
   "source": [
    "# Specify the Simple model using Dense Layer [optimizer = 'adam']\n",
    "\n",
    "model1 = Sequential()\n",
    "\n",
    "model1.add(Flatten(input_shape=(128,128,1)))\n",
    "\n",
    "model1.add(Dense(512, activation='relu'))\n",
    "\n",
    "model1.add(Dense(256, activation='relu'))\n",
    "\n",
    "model1.add(Dense(128, activation='relu'))\n",
    "\n",
    "model1.add(Dense(64, activation='relu'))\n",
    "\n",
    "model1.add(Dense(32, activation='relu'))\n",
    "\n",
    "model1.add(Dense(16, activation='relu'))\n",
    "\n",
    "model1.add(Dense(4, activation='softmax'))"
   ]
  },
  {
   "cell_type": "code",
   "execution_count": 132,
   "metadata": {},
   "outputs": [],
   "source": [
    "# Compile the model with learning_rate=0.001\n",
    "early_stopping_monitor1 = EarlyStopping(patience=3)\n",
    "model1.compile(optimizer=Adam(learning_rate=0.001), loss='categorical_crossentropy', metrics=['accuracy'])"
   ]
  },
  {
   "cell_type": "code",
   "execution_count": 133,
   "metadata": {},
   "outputs": [
    {
     "name": "stdout",
     "output_type": "stream",
     "text": [
      "Epoch 1/15\n",
      "154/154 [==============================] - 6s 37ms/step - loss: 16.8815 - accuracy: 0.4461 - val_loss: 1.7395 - val_accuracy: 0.5800\n",
      "Epoch 2/15\n",
      "154/154 [==============================] - 6s 36ms/step - loss: 1.4058 - accuracy: 0.6149 - val_loss: 1.5488 - val_accuracy: 0.6019\n",
      "Epoch 3/15\n",
      "154/154 [==============================] - 5s 36ms/step - loss: 1.1953 - accuracy: 0.6384 - val_loss: 1.1803 - val_accuracy: 0.6248\n",
      "Epoch 4/15\n",
      "154/154 [==============================] - 5s 35ms/step - loss: 0.6498 - accuracy: 0.7449 - val_loss: 0.9394 - val_accuracy: 0.7124\n",
      "Epoch 5/15\n",
      "154/154 [==============================] - 5s 35ms/step - loss: 0.5105 - accuracy: 0.8011 - val_loss: 1.0071 - val_accuracy: 0.6638\n",
      "Epoch 6/15\n",
      "154/154 [==============================] - 6s 36ms/step - loss: 0.5732 - accuracy: 0.7749 - val_loss: 1.0688 - val_accuracy: 0.6505\n",
      "Epoch 7/15\n",
      "154/154 [==============================] - 5s 36ms/step - loss: 0.4417 - accuracy: 0.8251 - val_loss: 0.8792 - val_accuracy: 0.7533\n",
      "Epoch 8/15\n",
      "154/154 [==============================] - 6s 36ms/step - loss: 0.4134 - accuracy: 0.8395 - val_loss: 0.9844 - val_accuracy: 0.7762\n",
      "Epoch 9/15\n",
      "154/154 [==============================] - 6s 37ms/step - loss: 0.3978 - accuracy: 0.8458 - val_loss: 0.9162 - val_accuracy: 0.7600\n",
      "Epoch 10/15\n",
      "154/154 [==============================] - 6s 37ms/step - loss: 0.4077 - accuracy: 0.8475 - val_loss: 0.9478 - val_accuracy: 0.7800\n"
     ]
    }
   ],
   "source": [
    "# X_train, y_train\n",
    "# validation_data=(X_valid, y_valid)\n",
    "# X_test, y_test\n",
    "history1 = model1.fit(X_train, y_train, validation_data=(X_valid, y_valid),\\\n",
    "           epochs=15, callbacks = [early_stopping_monitor1])"
   ]
  },
  {
   "cell_type": "code",
   "execution_count": 134,
   "metadata": {},
   "outputs": [
    {
     "name": "stdout",
     "output_type": "stream",
     "text": [
      "33/33 [==============================] - 0s 6ms/step - loss: 0.5691 - accuracy: 0.8219\n"
     ]
    },
    {
     "data": {
      "text/plain": [
       "[0.5691248774528503, 0.8219047784805298]"
      ]
     },
     "execution_count": 134,
     "metadata": {},
     "output_type": "execute_result"
    }
   ],
   "source": [
    "model1.evaluate(X_test, y_test)"
   ]
  },
  {
   "cell_type": "code",
   "execution_count": 135,
   "metadata": {},
   "outputs": [],
   "source": [
    "y_pred1 = model1.predict(X_test)"
   ]
  },
  {
   "cell_type": "code",
   "execution_count": 136,
   "metadata": {},
   "outputs": [
    {
     "name": "stdout",
     "output_type": "stream",
     "text": [
      "0.8219047619047619\n"
     ]
    }
   ],
   "source": [
    "y_pred = np.argmax(y_pred1, axis=-1)\n",
    "y_true = np.argmax(y_test, axis=-1)\n",
    "print(np.sum(y_pred==y_true)/len(y_true))"
   ]
  },
  {
   "cell_type": "markdown",
   "metadata": {},
   "source": [
    "### Model 2 (Implementing a Simple Convolutional Neural Network Model Architecture)"
   ]
  },
  {
   "cell_type": "code",
   "execution_count": 93,
   "metadata": {},
   "outputs": [],
   "source": [
    "model2 = Sequential()\n",
    "\n",
    "model2.add(Conv2D(filters=32, kernel_size=(3, 3), activation='relu', padding = 'same', input_shape=(128,128,1)))\n",
    "model2.add(MaxPool2D(pool_size=(2, 2), strides=2))\n",
    "\n",
    "model2.add(Conv2D(filters=64, kernel_size=(3, 3), activation='relu', padding = 'same'))\n",
    "model2.add(MaxPool2D(pool_size=(2, 2), strides=2))\n",
    "\n",
    "model2.add(Flatten())\n",
    "\n",
    "model2.add(Dense(units=4, activation='softmax'))"
   ]
  },
  {
   "cell_type": "code",
   "execution_count": 94,
   "metadata": {},
   "outputs": [],
   "source": [
    "early_stopping_monitor2 = EarlyStopping(patience=3)\n",
    "model2.compile(optimizer=Adam(learning_rate=0.001), loss='categorical_crossentropy', metrics=['accuracy'])"
   ]
  },
  {
   "cell_type": "code",
   "execution_count": 95,
   "metadata": {},
   "outputs": [
    {
     "name": "stdout",
     "output_type": "stream",
     "text": [
      "Epoch 1/15\n",
      "154/154 [==============================] - 33s 210ms/step - loss: 6.1381 - accuracy: 0.7640 - val_loss: 0.6532 - val_accuracy: 0.8467\n",
      "Epoch 2/15\n",
      "154/154 [==============================] - 33s 211ms/step - loss: 0.2518 - accuracy: 0.9153 - val_loss: 0.7481 - val_accuracy: 0.8514\n",
      "Epoch 3/15\n",
      "154/154 [==============================] - 33s 214ms/step - loss: 0.1344 - accuracy: 0.9555 - val_loss: 0.7695 - val_accuracy: 0.8619\n",
      "Epoch 4/15\n",
      "154/154 [==============================] - 34s 222ms/step - loss: 0.0861 - accuracy: 0.9732 - val_loss: 0.9217 - val_accuracy: 0.8800\n"
     ]
    }
   ],
   "source": [
    "# X_train, y_train\n",
    "# validation_data=(X_valid, y_valid)\n",
    "# X_test, y_test\n",
    "history2 = model2.fit(X_train, y_train, validation_data=(X_valid, y_valid),\\\n",
    "           epochs=15, callbacks = [early_stopping_monitor2])"
   ]
  },
  {
   "cell_type": "code",
   "execution_count": 96,
   "metadata": {},
   "outputs": [
    {
     "name": "stdout",
     "output_type": "stream",
     "text": [
      "33/33 [==============================] - 2s 59ms/step - loss: 0.2720 - accuracy: 0.9248\n"
     ]
    },
    {
     "data": {
      "text/plain": [
       "[0.27202892303466797, 0.9247618913650513]"
      ]
     },
     "execution_count": 96,
     "metadata": {},
     "output_type": "execute_result"
    }
   ],
   "source": [
    "model2.evaluate(X_test, y_test)"
   ]
  },
  {
   "cell_type": "code",
   "execution_count": 97,
   "metadata": {},
   "outputs": [],
   "source": [
    "y_pred2 = model2.predict(X_test)"
   ]
  },
  {
   "cell_type": "code",
   "execution_count": 98,
   "metadata": {},
   "outputs": [
    {
     "name": "stdout",
     "output_type": "stream",
     "text": [
      "0.9247619047619048\n"
     ]
    }
   ],
   "source": [
    "y_pred1 = np.argmax(y_pred2, axis=-1)\n",
    "y_true1 = np.argmax(y_test, axis=-1)\n",
    "print(np.sum(y_pred1==y_true1)/len(y_true1))"
   ]
  },
  {
   "cell_type": "markdown",
   "metadata": {},
   "source": [
    "### Model 3 Verifying LeNet-5 architecture"
   ]
  },
  {
   "cell_type": "code",
   "execution_count": 99,
   "metadata": {},
   "outputs": [],
   "source": [
    "# Defining Historical LeNet-5 Architecture\n",
    "model3 = Sequential()\n",
    "\n",
    "model3.add(Conv2D(20, (5,5), activation='relu', padding = 'same', strides=1, input_shape = (128,128,1)))\n",
    "model3.add(MaxPool2D((2,2), strides=2))\n",
    "\n",
    "model3.add(Conv2D(50, (5,5), activation='relu', strides=1, padding = 'same'))\n",
    "model3.add(MaxPool2D((2,2), strides=2))\n",
    "\n",
    "model3.add(Flatten())\n",
    "\n",
    "model3.add(Dense(512, activation='relu'))\n",
    "\n",
    "model3.add(Dense(4, activation='softmax'))"
   ]
  },
  {
   "cell_type": "code",
   "execution_count": 100,
   "metadata": {},
   "outputs": [],
   "source": [
    "# Compile the model\n",
    "early_stopping_monitor = EarlyStopping(patience=3)\n",
    "model3.compile(optimizer=Adam(learning_rate=0.001, beta_1=0.9, beta_2=0.999, epsilon=1e-07, amsgrad=False,\n",
    "    name='Adam'), loss='categorical_crossentropy', metrics=['accuracy'])"
   ]
  },
  {
   "cell_type": "code",
   "execution_count": 101,
   "metadata": {},
   "outputs": [
    {
     "name": "stdout",
     "output_type": "stream",
     "text": [
      "Epoch 1/20\n",
      "154/154 [==============================] - 55s 353ms/step - loss: 13.9905 - accuracy: 0.6583 - val_loss: 0.8842 - val_accuracy: 0.7610\n",
      "Epoch 2/20\n",
      "154/154 [==============================] - 55s 355ms/step - loss: 0.3631 - accuracy: 0.8800 - val_loss: 0.8277 - val_accuracy: 0.8429\n",
      "Epoch 3/20\n",
      "154/154 [==============================] - 57s 368ms/step - loss: 0.1800 - accuracy: 0.9415 - val_loss: 0.8067 - val_accuracy: 0.8514\n",
      "Epoch 4/20\n",
      "154/154 [==============================] - 56s 366ms/step - loss: 0.1138 - accuracy: 0.9638 - val_loss: 0.8332 - val_accuracy: 0.8657\n",
      "Epoch 5/20\n",
      "154/154 [==============================] - 56s 361ms/step - loss: 0.0795 - accuracy: 0.9775 - val_loss: 1.0133 - val_accuracy: 0.8524\n",
      "Epoch 6/20\n",
      "154/154 [==============================] - 55s 356ms/step - loss: 0.0642 - accuracy: 0.9809 - val_loss: 1.1167 - val_accuracy: 0.8724\n"
     ]
    }
   ],
   "source": [
    "# Fit the model\n",
    "history3 = model3.fit(X_train, y_train, epochs = 20, batch_size=32, \\\n",
    "                      validation_data = (X_valid, y_valid), callbacks=[early_stopping_monitor])"
   ]
  },
  {
   "cell_type": "code",
   "execution_count": 102,
   "metadata": {},
   "outputs": [
    {
     "name": "stdout",
     "output_type": "stream",
     "text": [
      "33/33 [==============================] - 2s 74ms/step - loss: 0.3998 - accuracy: 0.9371\n"
     ]
    },
    {
     "data": {
      "text/plain": [
       "[0.3998170793056488, 0.9371428489685059]"
      ]
     },
     "execution_count": 102,
     "metadata": {},
     "output_type": "execute_result"
    }
   ],
   "source": [
    "model3.evaluate(X_test, y_test)"
   ]
  },
  {
   "cell_type": "code",
   "execution_count": 103,
   "metadata": {},
   "outputs": [],
   "source": [
    "y_pred3 = model3.predict(X_test)"
   ]
  },
  {
   "cell_type": "markdown",
   "metadata": {},
   "source": [
    "### Model 4"
   ]
  },
  {
   "cell_type": "code",
   "execution_count": 108,
   "metadata": {},
   "outputs": [],
   "source": [
    "# Adding BatchNormalization and Dropout layer to previous model to maximize generalization or minimize overfitting\n",
    "\n",
    "model4 = Sequential()\n",
    "\n",
    "# Convolutional layer 1\n",
    "model4.add(Conv2D(32,(3,3), input_shape=(128,128,1), activation='relu'))\n",
    "model4.add(BatchNormalization())\n",
    "model4.add(MaxPooling2D(pool_size=(2,2)))\n",
    "\n",
    "# Convolutional layer 2\n",
    "model4.add(Conv2D(32,(3,3), activation='relu'))\n",
    "model4.add(BatchNormalization())\n",
    "model4.add(MaxPooling2D(pool_size=(2,2)))\n",
    "\n",
    "model4.add(Flatten())\n",
    "\n",
    "# Neural network\n",
    "\n",
    "model4.add(Dense(units= 252, activation='relu'))\n",
    "model4.add(Dropout(0.2))\n",
    "\n",
    "model4.add(Dense(units=252, activation='relu'))\n",
    "model4.add(Dropout(0.2))\n",
    "\n",
    "model4.add(Dense(units=4, activation='softmax'))"
   ]
  },
  {
   "cell_type": "code",
   "execution_count": 109,
   "metadata": {},
   "outputs": [],
   "source": [
    "optimizer = tf.keras.optimizers.Adam(learning_rate=0.001, decay=0.0001, clipvalue=0.5)\n",
    "model4.compile(optimizer=optimizer, loss='categorical_crossentropy',\n",
    "                   metrics= ['accuracy'])\n",
    "early_stopping_monitor = EarlyStopping(patience=4)"
   ]
  },
  {
   "cell_type": "code",
   "execution_count": 110,
   "metadata": {},
   "outputs": [
    {
     "name": "stdout",
     "output_type": "stream",
     "text": [
      "Epoch 1/20\n",
      "154/154 [==============================] - 49s 317ms/step - loss: 1.3971 - accuracy: 0.7024 - val_loss: 2.0212 - val_accuracy: 0.5714\n",
      "Epoch 2/20\n",
      "154/154 [==============================] - 49s 316ms/step - loss: 0.5441 - accuracy: 0.8312 - val_loss: 1.2959 - val_accuracy: 0.7724\n",
      "Epoch 3/20\n",
      "154/154 [==============================] - 49s 318ms/step - loss: 0.3693 - accuracy: 0.8889 - val_loss: 0.7868 - val_accuracy: 0.8086\n",
      "Epoch 4/20\n",
      "154/154 [==============================] - 51s 329ms/step - loss: 0.2646 - accuracy: 0.9202 - val_loss: 0.9455 - val_accuracy: 0.8571\n",
      "Epoch 5/20\n",
      "154/154 [==============================] - 53s 346ms/step - loss: 0.1874 - accuracy: 0.9419 - val_loss: 1.2460 - val_accuracy: 0.8438\n",
      "Epoch 6/20\n",
      "154/154 [==============================] - 50s 326ms/step - loss: 0.1537 - accuracy: 0.9537 - val_loss: 0.9059 - val_accuracy: 0.8724\n",
      "Epoch 7/20\n",
      "154/154 [==============================] - 86s 563ms/step - loss: 0.1252 - accuracy: 0.9598 - val_loss: 1.0501 - val_accuracy: 0.8562\n"
     ]
    }
   ],
   "source": [
    "history4 = model4.fit(X_train, y_train, epochs=20, validation_data=(X_valid, y_valid),\n",
    "                     callbacks=[early_stopping_monitor])"
   ]
  },
  {
   "cell_type": "code",
   "execution_count": 111,
   "metadata": {},
   "outputs": [
    {
     "name": "stdout",
     "output_type": "stream",
     "text": [
      "33/33 [==============================] - 5s 137ms/step - loss: 0.3486 - accuracy: 0.9143\n"
     ]
    },
    {
     "data": {
      "text/plain": [
       "[0.348573237657547, 0.9142857193946838]"
      ]
     },
     "execution_count": 111,
     "metadata": {},
     "output_type": "execute_result"
    }
   ],
   "source": [
    "model4.evaluate(X_test, y_test)"
   ]
  },
  {
   "cell_type": "code",
   "execution_count": 112,
   "metadata": {},
   "outputs": [],
   "source": [
    "y_pred4 = model4.predict(X_test)"
   ]
  },
  {
   "cell_type": "markdown",
   "metadata": {},
   "source": [
    "### Model 5 Implementing complex CNN Model"
   ]
  },
  {
   "cell_type": "code",
   "execution_count": 81,
   "metadata": {},
   "outputs": [],
   "source": [
    "# Specifying Model Architecture (Convolutional Neural Network)\n",
    "model5 = Sequential()\n",
    "\n",
    "# Convolutional layer, Batch Normalization layer, and maxpool layer 1\n",
    "model5.add(Conv2D(32,(3,3),activation='relu',input_shape=(128,128,1)))\n",
    "# model5.add(BatchNormalization())\n",
    "model5.add(MaxPool2D(2,2))\n",
    "\n",
    "# Convolutional layer,  Batch Normalization layer, and maxpool layer 2\n",
    "model5.add(Conv2D(64,(3,3),activation='relu'))\n",
    "# model5.add(BatchNormalization())\n",
    "model5.add(MaxPool2D(2,2))\n",
    "\n",
    "# Convolutional layer,  Batch Normalization layer, and maxpool layer 3\n",
    "model5.add(Conv2D(128,(3,3),activation='relu'))\n",
    "# model5.add(BatchNormalization())\n",
    "model5.add(MaxPool2D(2,2))\n",
    "\n",
    "# Convolutional layer,  Batch Normalization layer, and maxpool layer 4\n",
    "model5.add(Conv2D(256,(3,3),activation='relu'))\n",
    "# model5.add(BatchNormalization())\n",
    "model5.add(MaxPool2D(2,2))\n",
    "\n",
    "# This layer flattens the resulting image array to 1D array\n",
    "model5.add(Flatten())\n",
    "\n",
    "# Hidden layer with 512 neurons and Rectified Linear Unit activation function \n",
    "model5.add(Dense(512,activation='relu'))\n",
    "# model5.add(Dropout(0.25))\n",
    "\n",
    "# Output layer with single neuron which gives 0 for Cat or 1 for Dog \n",
    "#Here we use sigmoid activation function which makes our model output to lie between 0 and 1\n",
    "model5.add(Dense(4,activation='softmax'))"
   ]
  },
  {
   "cell_type": "code",
   "execution_count": 82,
   "metadata": {},
   "outputs": [],
   "source": [
    "# optimizer=optimizers.SGD(lr=1e-4, momentum=0.9)\n",
    "early_stopping_monitor5 = EarlyStopping(patience=4)\n",
    "model5.compile(optimizer=Adam(learning_rate=0.001, beta_1=0.9, beta_2=0.999, epsilon=1e-07, amsgrad=False,\n",
    "    name='Adam'), loss='binary_crossentropy', metrics=['accuracy'])"
   ]
  },
  {
   "cell_type": "code",
   "execution_count": 83,
   "metadata": {},
   "outputs": [
    {
     "name": "stdout",
     "output_type": "stream",
     "text": [
      "Epoch 1/20\n",
      "154/154 [==============================] - 49s 316ms/step - loss: 0.7200 - accuracy: 0.6835 - val_loss: 0.3151 - val_accuracy: 0.7352\n",
      "Epoch 2/20\n",
      "154/154 [==============================] - 50s 322ms/step - loss: 0.2149 - accuracy: 0.8284 - val_loss: 0.2655 - val_accuracy: 0.7990\n",
      "Epoch 3/20\n",
      "154/154 [==============================] - 50s 324ms/step - loss: 0.1494 - accuracy: 0.8877 - val_loss: 0.2488 - val_accuracy: 0.8238\n",
      "Epoch 4/20\n",
      "154/154 [==============================] - 51s 329ms/step - loss: 0.1043 - accuracy: 0.9261 - val_loss: 0.2364 - val_accuracy: 0.8695\n",
      "Epoch 5/20\n",
      "154/154 [==============================] - 52s 341ms/step - loss: 0.0787 - accuracy: 0.9468 - val_loss: 0.3258 - val_accuracy: 0.8438\n",
      "Epoch 6/20\n",
      "154/154 [==============================] - 53s 346ms/step - loss: 0.0563 - accuracy: 0.9642 - val_loss: 0.2610 - val_accuracy: 0.8933\n",
      "Epoch 7/20\n",
      "154/154 [==============================] - 54s 349ms/step - loss: 0.0361 - accuracy: 0.9772 - val_loss: 0.2733 - val_accuracy: 0.8695\n",
      "Epoch 8/20\n",
      "154/154 [==============================] - 53s 343ms/step - loss: 0.0376 - accuracy: 0.9752 - val_loss: 0.2833 - val_accuracy: 0.9038\n"
     ]
    }
   ],
   "source": [
    "\n",
    "history5 = model5.fit(X_train, y_train, epochs = 20, batch_size=32, validation_data = (X_valid, y_valid), \\\n",
    "           callbacks = [early_stopping_monitor5])"
   ]
  },
  {
   "cell_type": "code",
   "execution_count": 84,
   "metadata": {},
   "outputs": [
    {
     "name": "stdout",
     "output_type": "stream",
     "text": [
      "33/33 [==============================] - 3s 84ms/step - loss: 0.0918 - accuracy: 0.9467\n"
     ]
    },
    {
     "data": {
      "text/plain": [
       "[0.09182693064212799, 0.9466666579246521]"
      ]
     },
     "execution_count": 84,
     "metadata": {},
     "output_type": "execute_result"
    }
   ],
   "source": [
    "model5.evaluate(X_test, y_test)"
   ]
  },
  {
   "cell_type": "code",
   "execution_count": 85,
   "metadata": {},
   "outputs": [],
   "source": [
    "y_pred5 = model5.predict(X_test)"
   ]
  },
  {
   "cell_type": "markdown",
   "metadata": {},
   "source": [
    "### Model 6"
   ]
  },
  {
   "cell_type": "code",
   "execution_count": 120,
   "metadata": {},
   "outputs": [],
   "source": [
    "# Specifying Model Architecture (Convolutional Neural Network)\n",
    "model6 = Sequential()\n",
    "\n",
    "# Convolutional layer, Batch Normalization layer, and maxpool layer 1\n",
    "model6.add(Conv2D(32,(3,3),activation='relu',input_shape=(128,128,1)))\n",
    "model6.add(BatchNormalization())\n",
    "model6.add(MaxPool2D(2,2))\n",
    "\n",
    "# Convolutional layer,  Batch Normalization layer, and maxpool layer 2\n",
    "model6.add(Conv2D(64,(3,3),activation='relu'))\n",
    "model6.add(BatchNormalization())\n",
    "model6.add(MaxPool2D(2,2))\n",
    "\n",
    "# Convolutional layer,  Batch Normalization layer, and maxpool layer 3\n",
    "model6.add(Conv2D(128,(3,3),activation='relu'))\n",
    "model6.add(BatchNormalization())\n",
    "model6.add(MaxPool2D(2,2))\n",
    "\n",
    "# Convolutional layer,  Batch Normalization layer, and maxpool layer 4\n",
    "model6.add(Conv2D(256,(3,3),activation='relu'))\n",
    "model6.add(BatchNormalization())\n",
    "model6.add(MaxPool2D(2,2))\n",
    "\n",
    "# This layer flattens the resulting image array to 1D array\n",
    "model6.add(Flatten())\n",
    "\n",
    "# Hidden layer with 512 neurons and Rectified Linear Unit activation function \n",
    "model6.add(Dense(512,activation='relu'))\n",
    "model6.add(Dropout(0.25))\n",
    "\n",
    "# Output layer with 4 neurons for 4 classes \n",
    "model6.add(Dense(4,activation='softmax'))"
   ]
  },
  {
   "cell_type": "code",
   "execution_count": 121,
   "metadata": {},
   "outputs": [],
   "source": [
    "early_stopping_monitor6 = EarlyStopping(patience=4)\n",
    "model6.compile(optimizer=Adam(learning_rate=0.001, beta_1=0.9, beta_2=0.999, epsilon=1e-07, amsgrad=False,\n",
    "    name='Adam'), loss='binary_crossentropy', metrics=['accuracy'])"
   ]
  },
  {
   "cell_type": "code",
   "execution_count": 122,
   "metadata": {},
   "outputs": [
    {
     "name": "stdout",
     "output_type": "stream",
     "text": [
      "Epoch 1/20\n",
      "154/154 [==============================] - 74s 480ms/step - loss: 0.4476 - accuracy: 0.7709 - val_loss: 0.4313 - val_accuracy: 0.6657\n",
      "Epoch 2/20\n",
      "154/154 [==============================] - 77s 500ms/step - loss: 0.1847 - accuracy: 0.8676 - val_loss: 0.3149 - val_accuracy: 0.7705\n",
      "Epoch 3/20\n",
      "154/154 [==============================] - 77s 502ms/step - loss: 0.1287 - accuracy: 0.9098 - val_loss: 0.2863 - val_accuracy: 0.8390\n",
      "Epoch 4/20\n",
      "154/154 [==============================] - 77s 502ms/step - loss: 0.0941 - accuracy: 0.9324 - val_loss: 0.2675 - val_accuracy: 0.8486\n",
      "Epoch 5/20\n",
      "154/154 [==============================] - 77s 500ms/step - loss: 0.0672 - accuracy: 0.9531 - val_loss: 0.2498 - val_accuracy: 0.8857\n",
      "Epoch 6/20\n",
      "154/154 [==============================] - 80s 519ms/step - loss: 0.0487 - accuracy: 0.9679 - val_loss: 0.3990 - val_accuracy: 0.8314\n",
      "Epoch 7/20\n",
      "154/154 [==============================] - 77s 503ms/step - loss: 0.0318 - accuracy: 0.9787 - val_loss: 0.3421 - val_accuracy: 0.8743\n",
      "Epoch 8/20\n",
      "154/154 [==============================] - 76s 493ms/step - loss: 0.0263 - accuracy: 0.9837 - val_loss: 0.4762 - val_accuracy: 0.8105\n",
      "Epoch 9/20\n",
      "154/154 [==============================] - 78s 507ms/step - loss: 0.0265 - accuracy: 0.9837 - val_loss: 0.3107 - val_accuracy: 0.9133\n"
     ]
    }
   ],
   "source": [
    "\n",
    "history6 = model6.fit(X_train, y_train, epochs = 20, batch_size=32, validation_data = (X_valid, y_valid), \\\n",
    "           callbacks = [early_stopping_monitor6])"
   ]
  },
  {
   "cell_type": "code",
   "execution_count": 123,
   "metadata": {},
   "outputs": [
    {
     "name": "stdout",
     "output_type": "stream",
     "text": [
      "33/33 [==============================] - 4s 123ms/step - loss: 0.0616 - accuracy: 0.9648\n"
     ]
    },
    {
     "data": {
      "text/plain": [
       "[0.06156882271170616, 0.9647619128227234]"
      ]
     },
     "execution_count": 123,
     "metadata": {},
     "output_type": "execute_result"
    }
   ],
   "source": [
    "model6.evaluate(X_test, y_test)"
   ]
  },
  {
   "cell_type": "code",
   "execution_count": 124,
   "metadata": {},
   "outputs": [],
   "source": [
    "y_pred6 = model6.predict(X_test)"
   ]
  },
  {
   "cell_type": "markdown",
   "metadata": {},
   "source": [
    "## Model 7: Complex Model"
   ]
  },
  {
   "cell_type": "code",
   "execution_count": null,
   "metadata": {},
   "outputs": [],
   "source": [
    "model7 = Sequential()\n",
    "\n",
    "# Convolutional layer 1\n",
    "model7.add(Conv2D(64,(7,7), input_shape=(128,128, 1), padding='same', activation='relu'))\n",
    "model7.add(BatchNormalization())\n",
    "model7.add(MaxPooling2D(pool_size=(2,2)))\n",
    "\n",
    "#Convolutional layer 2\n",
    "model6.add(Conv2D(128,(7,7), padding='same', activation='relu'))\n",
    "model6.add(BatchNormalization())\n",
    "model6.add(MaxPooling2D(pool_size=(2,2)))\n",
    "\n",
    "# Convolutional layer 3\n",
    "model6.add(Conv2D(256,(7,7), padding='same', activation='relu'))\n",
    "model6.add(BatchNormalization())\n",
    "model6.add(MaxPooling2D(pool_size=(2,2)))\n",
    "\n",
    "# Convolutional layer 4\n",
    "model6.add(Conv2D(512,(7,7), padding='same', activation='relu'))\n",
    "model6.add(BatchNormalization())\n",
    "model6.add(MaxPooling2D(pool_size=(2,2)))\n",
    "\n",
    "\n",
    "model6.add(Flatten())\n",
    "\n",
    "# Full connect layers\n",
    "\n",
    "model6.add(Dense(units= 512, activation='relu'))\n",
    "model6.add(Dropout(0.2))\n",
    "\n",
    "model6.add(Dense(units=512, activation='relu'))\n",
    "model6.add(Dropout(0.2))\n",
    "\n",
    "model6.add(Dense(units=4, activation='softmax'))"
   ]
  },
  {
   "cell_type": "code",
   "execution_count": null,
   "metadata": {},
   "outputs": [],
   "source": []
  },
  {
   "cell_type": "code",
   "execution_count": null,
   "metadata": {},
   "outputs": [],
   "source": []
  },
  {
   "cell_type": "code",
   "execution_count": null,
   "metadata": {},
   "outputs": [],
   "source": []
  },
  {
   "cell_type": "code",
   "execution_count": null,
   "metadata": {},
   "outputs": [],
   "source": []
  },
  {
   "cell_type": "markdown",
   "metadata": {},
   "source": [
    "## Visualizing Models Performance"
   ]
  },
  {
   "cell_type": "code",
   "execution_count": null,
   "metadata": {},
   "outputs": [],
   "source": [
    "# Create the plot\n",
    "# type(history1)\n",
    "# history1.history.items()\n",
    "plt.plot(history1.history['loss'], 'b', label='training loss')\n",
    "plt.plot(history1.history['val_loss'], 'r', label='validation loss')\n",
    "plt.xlabel('Epochs', )\n",
    "plt.ylabel('Validation score')\n",
    "plt.legend()\n",
    "plt.show()"
   ]
  },
  {
   "cell_type": "code",
   "execution_count": 126,
   "metadata": {},
   "outputs": [],
   "source": [
    "# labels = ['Glioma','Meningioma','NoTumor','Pituitary']\n",
    "def get_all_metrics(true_category, pred_category, model_name, history_name):\n",
    "    \"\"\"\n",
    "    Confusion matrix and model performance metric visualization\n",
    "    \"\"\"\n",
    "    labels = ['Glioma','Meningioma','NoTumor','Pituitary']\n",
    "    y_true = np.argmax(true_category, axis=-1)\n",
    "    y_pred = np.argmax(pred_category, axis=-1)\n",
    "    \n",
    "    print(f\"\\nMax. training accuracy for {model_name}: {max(history_name.history['accuracy'])*100:.2f}%\")\n",
    "    print(f\"Max. validation accuracy for {model_name}: {max(history_name.history['val_accuracy'])*100:.2f}%\")\n",
    "    \n",
    "    accuracy = np.sum(y_true == y_pred)/len(y_true)\n",
    "    print(f\"Test accuracy for {model_name}: {(accuracy*100):.2f}%\")\n",
    "    \n",
    "    print(f\"\\nClassification Report for {model_name}:\\n\\n\", classification_report(y_true, y_pred))\n",
    "    \n",
    "    fig, ax = plt.subplots(figsize=(16,8))\n",
    "    sns.heatmap(confusion_matrix(y_true, y_pred),xticklabels=labels,yticklabels=labels,annot=True,\n",
    "           cmap=\"Greens\",alpha=0.7, ax=ax, linewidths=2,linecolor='gray',fmt='d')\n",
    "    fig.text(s=f'      Confusion Matrix for {model_name}',size=18,fontweight='bold',\n",
    "            fontname='monospace',color='g',y=0.92,x=0.28,alpha=0.7)\n",
    "    plt.savefig(f\"../Figures/Confusion_Matrix/{model_name}\")\n",
    "    plt.show()"
   ]
  },
  {
   "cell_type": "code",
   "execution_count": 137,
   "metadata": {},
   "outputs": [
    {
     "name": "stdout",
     "output_type": "stream",
     "text": [
      "\n",
      "Max. training accuracy for model_1: 84.75%\n",
      "Max. validation accuracy for model_1: 78.00%\n",
      "Test accuracy for model_1: 82.19%\n",
      "\n",
      "Classification Report for model_1:\n",
      "\n",
      "               precision    recall  f1-score   support\n",
      "\n",
      "           0       0.74      0.71      0.72       241\n",
      "           1       0.69      0.68      0.68       245\n",
      "           2       0.88      0.97      0.92       325\n",
      "           3       0.96      0.89      0.92       239\n",
      "\n",
      "    accuracy                           0.82      1050\n",
      "   macro avg       0.82      0.81      0.81      1050\n",
      "weighted avg       0.82      0.82      0.82      1050\n",
      "\n"
     ]
    },
    {
     "data": {
      "image/png": "[encoded data removed]",
      "text/plain": [
       "<Figure size 1152x576 with 2 Axes>"
      ]
     },
     "metadata": {
      "needs_background": "light"
     },
     "output_type": "display_data"
    }
   ],
   "source": [
    "get_all_metrics(y_test1, y_pred1, 'model_1', history1)"
   ]
  },
  {
   "cell_type": "code",
   "execution_count": 104,
   "metadata": {},
   "outputs": [
    {
     "name": "stdout",
     "output_type": "stream",
     "text": [
      "\n",
      "Max. training accuracy for model_2: 97.32%\n",
      "Max. validation accuracy for model_2: 88.00%\n",
      "Test accuracy for model_2: 92.48%\n",
      "\n",
      "Classification Report for model_2:\n",
      "\n",
      "               precision    recall  f1-score   support\n",
      "\n",
      "           0       0.95      0.83      0.89       241\n",
      "           1       0.82      0.88      0.85       245\n",
      "           2       0.97      0.99      0.98       325\n",
      "           3       0.95      0.97      0.96       239\n",
      "\n",
      "    accuracy                           0.92      1050\n",
      "   macro avg       0.92      0.92      0.92      1050\n",
      "weighted avg       0.93      0.92      0.92      1050\n",
      "\n"
     ]
    },
    {
     "data": {
      "image/png": "[encoded data removed]",
      "text/plain": [
       "<Figure size 1152x576 with 2 Axes>"
      ]
     },
     "metadata": {
      "needs_background": "light"
     },
     "output_type": "display_data"
    }
   ],
   "source": [
    "get_all_metrics(y_test2, y_pred2, 'model_2', history2)"
   ]
  },
  {
   "cell_type": "code",
   "execution_count": 128,
   "metadata": {},
   "outputs": [
    {
     "name": "stdout",
     "output_type": "stream",
     "text": [
      "\n",
      "Max. training accuracy for model_3: 98.09%\n",
      "Max. validation accuracy for model_3: 87.24%\n",
      "Test accuracy for model_3: 93.71%\n",
      "\n",
      "Classification Report for model_3:\n",
      "\n",
      "               precision    recall  f1-score   support\n",
      "\n",
      "           0       0.95      0.88      0.91       241\n",
      "           1       0.89      0.86      0.88       245\n",
      "           2       0.94      1.00      0.97       325\n",
      "           3       0.95      1.00      0.98       239\n",
      "\n",
      "    accuracy                           0.94      1050\n",
      "   macro avg       0.94      0.93      0.93      1050\n",
      "weighted avg       0.94      0.94      0.94      1050\n",
      "\n"
     ]
    },
    {
     "data": {
      "image/png": "[encoded data removed]",
      "text/plain": [
       "<Figure size 1152x576 with 2 Axes>"
      ]
     },
     "metadata": {
      "needs_background": "light"
     },
     "output_type": "display_data"
    }
   ],
   "source": [
    "get_all_metrics(y_test3, y_pred3, 'model_3', history3)"
   ]
  },
  {
   "cell_type": "code",
   "execution_count": 129,
   "metadata": {},
   "outputs": [
    {
     "name": "stdout",
     "output_type": "stream",
     "text": [
      "\n",
      "Max. training accuracy for model_4: 95.98%\n",
      "Max. validation accuracy for model_4: 87.24%\n",
      "Test accuracy for model_4: 91.43%\n",
      "\n",
      "Classification Report for model_4:\n",
      "\n",
      "               precision    recall  f1-score   support\n",
      "\n",
      "           0       0.83      0.97      0.89       241\n",
      "           1       0.93      0.70      0.80       245\n",
      "           2       0.93      1.00      0.96       325\n",
      "           3       0.97      0.97      0.97       239\n",
      "\n",
      "    accuracy                           0.91      1050\n",
      "   macro avg       0.92      0.91      0.91      1050\n",
      "weighted avg       0.92      0.91      0.91      1050\n",
      "\n"
     ]
    },
    {
     "data": {
      "image/png": "[encoded data removed]",
      "text/plain": [
       "<Figure size 1152x576 with 2 Axes>"
      ]
     },
     "metadata": {
      "needs_background": "light"
     },
     "output_type": "display_data"
    }
   ],
   "source": [
    "get_all_metrics(y_test4, y_pred4, 'model_4', history4)"
   ]
  },
  {
   "cell_type": "code",
   "execution_count": 130,
   "metadata": {},
   "outputs": [
    {
     "name": "stdout",
     "output_type": "stream",
     "text": [
      "\n",
      "Max. training accuracy for model_5: 97.72%\n",
      "Max. validation accuracy for model_5: 90.38%\n",
      "Test accuracy for model_5: 94.67%\n",
      "\n",
      "Classification Report for model_5:\n",
      "\n",
      "               precision    recall  f1-score   support\n",
      "\n",
      "           0       0.94      0.92      0.93       241\n",
      "           1       0.89      0.89      0.89       245\n",
      "           2       0.97      0.99      0.98       325\n",
      "           3       0.97      0.97      0.97       239\n",
      "\n",
      "    accuracy                           0.95      1050\n",
      "   macro avg       0.94      0.94      0.94      1050\n",
      "weighted avg       0.95      0.95      0.95      1050\n",
      "\n"
     ]
    },
    {
     "data": {
      "image/png": "[encoded data removed]",
      "text/plain": [
       "<Figure size 1152x576 with 2 Axes>"
      ]
     },
     "metadata": {
      "needs_background": "light"
     },
     "output_type": "display_data"
    }
   ],
   "source": [
    "get_all_metrics(y_test5, y_pred5, 'model_5', history5)"
   ]
  },
  {
   "cell_type": "code",
   "execution_count": 125,
   "metadata": {},
   "outputs": [
    {
     "name": "stdout",
     "output_type": "stream",
     "text": [
      "\n",
      "Max. training accuracy for model_6: 98.37%\n",
      "Max. validation accuracy for model_6: 91.33%\n",
      "Test accuracy for model_6: 96.48%\n",
      "\n",
      "Classification Report for model_6:\n",
      "\n",
      "               precision    recall  f1-score   support\n",
      "\n",
      "           0       0.95      0.95      0.95       241\n",
      "           1       0.94      0.91      0.93       245\n",
      "           2       0.98      1.00      0.99       325\n",
      "           3       0.98      0.98      0.98       239\n",
      "\n",
      "    accuracy                           0.96      1050\n",
      "   macro avg       0.96      0.96      0.96      1050\n",
      "weighted avg       0.96      0.96      0.96      1050\n",
      "\n"
     ]
    },
    {
     "data": {
      "image/png": "[encoded data removed]",
      "text/plain": [
       "<Figure size 1152x576 with 2 Axes>"
      ]
     },
     "metadata": {
      "needs_background": "light"
     },
     "output_type": "display_data"
    }
   ],
   "source": [
    "get_all_metrics(y_test6, y_pred6, 'model_6', history6)"
   ]
  },
  {
   "cell_type": "code",
   "execution_count": null,
   "metadata": {},
   "outputs": [],
   "source": []
  },
  {
   "cell_type": "markdown",
   "metadata": {},
   "source": [
    "## Save a Model"
   ]
  },
  {
   "cell_type": "code",
   "execution_count": null,
   "metadata": {},
   "outputs": [],
   "source": [
    "# serialize model to JSON\n",
    "from keras.models import model_from_json\n",
    "model_json = classifier.to_json()\n",
    "with open(\"model.json\", \"w\") as json_file:\n",
    "    json_file.write(model_json)"
   ]
  },
  {
   "cell_type": "code",
   "execution_count": null,
   "metadata": {},
   "outputs": [],
   "source": [
    "# serialize weights to HDF5\n",
    "classifier.save_weights(\"model.h5\")\n",
    "print(\"Saved model to disk\")"
   ]
  },
  {
   "cell_type": "markdown",
   "metadata": {},
   "source": [
    "## For later use"
   ]
  },
  {
   "cell_type": "code",
   "execution_count": null,
   "metadata": {},
   "outputs": [],
   "source": [
    "cm = confusion_matrix(y_true=np.argmax(y_test, axis=-1), y_pred=np.argmax(y_pred1, axis=-1))\n",
    "cm_plot_labels = ['Glioma', 'Meningioma', 'NoTumor', 'Pituitary']"
   ]
  },
  {
   "cell_type": "code",
   "execution_count": null,
   "metadata": {},
   "outputs": [],
   "source": [
    "def plot_confusion_matrix(cm, classes=cm_plot_labels,\n",
    "                          normalize=False,\n",
    "                          title='Confusion matrix',\n",
    "                          cmap=plt.cm.Blues):\n",
    "    \"\"\"\n",
    "    This function prints and plots the confusion matrix.\n",
    "    Normalization can be applied by setting `normalize=True`.\n",
    "    \"\"\"\n",
    "    plt.imshow(cm, interpolation='nearest', cmap=cmap)\n",
    "    plt.title(title)\n",
    "    plt.colorbar()\n",
    "    tick_marks = np.arange(len(classes))\n",
    "    plt.xticks(tick_marks, classes, rotation=45)\n",
    "    plt.yticks(tick_marks, classes)\n",
    "\n",
    "    if normalize:\n",
    "        cm = cm.astype('float') / cm.sum(axis=1)[:, np.newaxis]\n",
    "        print(\"Normalized confusion matrix\")\n",
    "    else:\n",
    "        print('Confusion matrix, without normalization')\n",
    "\n",
    "    print(cm)\n",
    "\n",
    "    thresh = cm.max() / 2.\n",
    "    for i, j in itertools.product(range(cm.shape[0]), range(cm.shape[1])):\n",
    "        plt.text(j, i, cm[i, j],\n",
    "            horizontalalignment=\"center\",\n",
    "            color=\"white\" if cm[i, j] > thresh else \"black\")\n",
    "\n",
    "    plt.tight_layout()\n",
    "    plt.ylabel('True label')\n",
    "    plt.xlabel('Predicted label')"
   ]
  },
  {
   "cell_type": "code",
   "execution_count": null,
   "metadata": {},
   "outputs": [],
   "source": [
    "plot_confusion_matrix(cm=cm, classes=cm_plot_labels, title='Confusion Matrix')"
   ]
  },
  {
   "cell_type": "code",
   "execution_count": null,
   "metadata": {},
   "outputs": [],
   "source": [
    "colors_dark = [\"#1F1F1F\", \"#313131\", '#636363', '#AEAEAE', '#DADADA']\n",
    "colors_red = [\"#331313\", \"#582626\", '#9E1717', '#D35151', '#E9B4B4']\n",
    "colors_green = ['#01411C','#4B6F44','#4F7942','#74C365','#D0F0C0']\n",
    "\n",
    "print(classification_report(true_labels, pred_labels))\n",
    "\n",
    "fig,ax=plt.subplots(1,1,figsize=(14,7))\n",
    "sns.heatmap(confusion_matrix(true_labels, pred_labels),ax=ax,xticklabels=labels,yticklabels=labels,annot=True,\n",
    "           cmap=colors_green,alpha=0.5,linewidths=2,linecolor=colors_dark[3],fmt='d')\n",
    "fig.text(s='Heatmap of the Confusion Matrix',size=18,fontweight='bold',\n",
    "            fontname='monospace',color='k',y=0.92,x=0.28,alpha=0.8)\n",
    "\n",
    "plt.show()"
   ]
  },
  {
   "cell_type": "code",
   "execution_count": null,
   "metadata": {},
   "outputs": [],
   "source": [
    "# Data Preparation for keras nodel\n",
    "train_img = []\n",
    "train_labels = []\n",
    "\n",
    "test_img = []\n",
    "test_labels = []\n",
    "\n",
    "path_train = ('/kaggle/input/brain-tumor-classification-mri/Training/')\n",
    "path_test = ('/kaggle/input/brain-tumor-classification-mri/Testing/')\n",
    "img_size= 300\n",
    "\n",
    "for i in os.listdir(path_train):\n",
    "    for j in os.listdir(path_train+i):\n",
    "        train_img.append (cv2.resize(cv2.imread(path_train+i+'/'+j), (img_size,img_size))) \n",
    "        train_labels.append(i)\n",
    "        \n",
    "for i in os.listdir(path_test):\n",
    "    for j in os.listdir(path_test+i):\n",
    "        test_img.append (cv2.resize(cv2.imread(path_test+i+'/'+j), (img_size,img_size))) \n",
    "        test_labels.append(i)\n",
    "        \n",
    "train_img = (np.array(train_img))\n",
    "test_img = (np.array(test_img))\n",
    "train_labels_encoded = [0 if category == 'no_tumor' else(1 if category == 'glioma_tumor' else(2 if category=='meningioma_tumor' else 3)) for category in list(train_labels)]\n",
    "test_labels_encoded = [0 if category == 'no_tumor' else(1 if category == 'glioma_tumor' else(2 if category=='meningioma_tumor' else 3)) for category in list(test_labels)]"
   ]
  },
  {
   "cell_type": "code",
   "execution_count": null,
   "metadata": {},
   "outputs": [],
   "source": [
    "\"\"\"\n",
    "\n",
    "#steps_per_epoch = train_imagesize/batch_size\n",
    "result = 0\n",
    "model_evaluate = []\n",
    "start = time.time()\n",
    "for i in range(5):\n",
    "    model.fit(train_dataset,\n",
    "             epochs = 10, batch_size=10,\n",
    "             validation_data = 0.0  \n",
    "             )\n",
    "    result = model.evaluate(test_dataset)\n",
    "    model_evaluate.append(result[1])\n",
    "end = time.time()\n",
    "print(end - start)\n",
    "\n",
    "\"\"\""
   ]
  },
  {
   "cell_type": "code",
   "execution_count": null,
   "metadata": {},
   "outputs": [],
   "source": [
    "# Early Stopping\n",
    "tf.keras.callbacks.EarlyStopping(\n",
    "    monitor=\"val_loss\",\n",
    "    min_delta=0,\n",
    "    patience=0,\n",
    "    verbose=0,\n",
    "    mode=\"auto\",\n",
    "    baseline=None,\n",
    "    restore_best_weights=False,\n",
    ")"
   ]
  },
  {
   "cell_type": "code",
   "execution_count": null,
   "metadata": {},
   "outputs": [],
   "source": [
    "\"\"\"\n",
    "RMSprop(\n",
    "    learning_rate=0.001, rho=0.9, momentum=0.0, epsilon=1e-07, centered=False,\n",
    "    name='RMSprop', **kwargs\n",
    ")\n",
    "Adam(\n",
    "    learning_rate=0.001, beta_1=0.9, beta_2=0.999, epsilon=1e-07, amsgrad=False,\n",
    "    name='Adam', **kwargs\n",
    ")\n",
    "\n",
    "\"\"\""
   ]
  },
  {
   "cell_type": "code",
   "execution_count": null,
   "metadata": {},
   "outputs": [],
   "source": [
    "image_size = 300\n",
    "effnet = EfficientNetB0(weights='imagenet',include_top=False,input_shape=(image_size,image_size,3))\n",
    "model = effnet.output\n",
    "model = tf.keras.layers.GlobalAveragePooling2D()(model)\n",
    "model = tf.keras.layers.Dropout(rate=0.5)(model)\n",
    "model = tf.keras.layers.Dense(4,activation='softmax')(model)\n",
    "model = tf.keras.models.Model(inputs=effnet.input, outputs = model)"
   ]
  },
  {
   "cell_type": "code",
   "execution_count": null,
   "metadata": {},
   "outputs": [],
   "source": [
    "import visualkeras\n",
    "visualkeras.layered_view(model)"
   ]
  },
  {
   "cell_type": "code",
   "execution_count": null,
   "metadata": {},
   "outputs": [],
   "source": [
    "import visualkeras\n",
    "\n",
    "model = ...\n",
    "\n",
    "visualkeras.layered_view(model).show() # display using your system viewer\n",
    "visualkeras.layered_view(model, to_file='output.png') # write to disk\n",
    "visualkeras.layered_view(model, to_file='output.png').show() # write and show"
   ]
  },
  {
   "cell_type": "code",
   "execution_count": null,
   "metadata": {},
   "outputs": [],
   "source": [
    "from PIL import ImageFont\n",
    "\n",
    "font = ImageFont.truetype(\"arial.ttf\", 32)  # using comic sans is strictly prohibited!\n",
    "visualkeras.layered_view(model, legend=True, font=font)  # font is optional!"
   ]
  },
  {
   "cell_type": "code",
   "execution_count": null,
   "metadata": {},
   "outputs": [],
   "source": [
    "# https://pypi.org/project/visualkeras/"
   ]
  },
  {
   "cell_type": "code",
   "execution_count": null,
   "metadata": {},
   "outputs": [],
   "source": [
    "# load json and create model\n",
    "'''\n",
    "json_file = open('model.json', 'r')\n",
    "loaded_model_json = json_file.read()\n",
    "json_file.close()\n",
    "loaded_model = model_from_json(loaded_model_json)\n",
    "'''"
   ]
  },
  {
   "cell_type": "code",
   "execution_count": null,
   "metadata": {},
   "outputs": [],
   "source": [
    "# load weights into new model\n",
    "'''\n",
    "loaded_model.load_weights(\"model.h5\")\n",
    "print(\"Loaded model from disk\")\n",
    "'''"
   ]
  },
  {
   "cell_type": "code",
   "execution_count": null,
   "metadata": {},
   "outputs": [],
   "source": [
    "'''\n",
    "# Individual predictions\n",
    "import numpy as np\n",
    "from tensorflow.keras.preprocessing import image\n",
    "test_image = image.load_img('dataset/single_prediction/OIP.jpg', target_size = (512, 512)) # Cargamos la imagen con un tamaño igual a\n",
    "                                                                                           # los anteriores\n",
    "test_image = image.img_to_array(test_image) # Convertimos la imagen en un array\n",
    "test_image = np.expand_dims(test_image, axis = 0) # Modificamos las dimensions\n",
    "result = classifier.predict(test_image) # Prediccion\n",
    "print(training_dataset.class_indices)\n",
    "print(result)\n",
    "'''"
   ]
  },
  {
   "cell_type": "code",
   "execution_count": null,
   "metadata": {},
   "outputs": [],
   "source": [
    "# evaluate loaded model on test data\n",
    "'''\n",
    "loaded_model.compile(loss='binary_crossentropy', optimizer='adam', metrics=['accuracy'])\n",
    "score = loaded_model.evaluate(X, Y, verbose=0)\n",
    "print(\"%s: %.2f%%\" % (loaded_model.metrics_names[1], score[1]*100))\n",
    "'''"
   ]
  },
  {
   "cell_type": "markdown",
   "metadata": {},
   "source": [
    "Summary 1: horizontalflip=True, (64,64)\n",
    "model 1=0.88 , model2=0.9419, model3=0.9695, model4=0.9771, model5=0.9629, model6=0.9695\n",
    "Summary 2: (64,64)\n",
    "model 1=0.8990 , model2=0.9333, model3=0.9600, model4=0.9610, model5=, model6=0.9533\n",
    "Summary 3: horizontalflip=True, (128,128)\n",
    "model 1=0.84 , model2=0.9162, model3=0.9790, model4=0.9657, model5=, model6=0.9552\n",
    "Summary 4: (128,128)\n",
    "model 1=0.92 , model2=0.9467, model3=0.9638, model4=0.8971, model5=, model6=0.9457"
   ]
  }
 ],
 "metadata": {
  "kernelspec": {
   "display_name": "Python 3",
   "language": "python",
   "name": "python3"
  },
  "language_info": {
   "codemirror_mode": {
    "name": "ipython",
    "version": 3
   },
   "file_extension": ".py",
   "mimetype": "text/x-python",
   "name": "python",
   "nbconvert_exporter": "python",
   "pygments_lexer": "ipython3",
   "version": "3.8.5"
  }
 },
 "nbformat": 4,
 "nbformat_minor": 4
}
